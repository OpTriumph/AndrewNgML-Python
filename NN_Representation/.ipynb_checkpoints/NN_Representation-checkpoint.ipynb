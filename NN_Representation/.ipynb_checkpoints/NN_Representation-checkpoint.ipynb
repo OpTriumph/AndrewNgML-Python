{
 "cells": [
  {
   "cell_type": "code",
   "execution_count": 55,
   "metadata": {},
   "outputs": [],
   "source": [
    "import pandas as pd\n",
    "import numpy as np\n",
    "import scipy.io\n",
    "mat = scipy.io.loadmat('ex3data1.mat')\n",
    "data1 = pd.DataFrame(np.hstack((mat['X'], mat['y'])))\n",
    "\n",
    "X = data1.iloc[:,:400]\n",
    "y = data1[[400]]\n",
    "# y.loc[:500] = 0.0\n",
    "input_layer_size = 400\n",
    "num_labels = 10"
   ]
  },
  {
   "cell_type": "markdown",
   "metadata": {},
   "source": [
    "## Visualizing"
   ]
  },
  {
   "cell_type": "code",
   "execution_count": 2,
   "metadata": {},
   "outputs": [
    {
     "name": "stdout",
     "output_type": "stream",
     "text": [
      "random digit chosen from the dataset\n"
     ]
    },
    {
     "data": {
      "image/png": "[encoded data removed]",
      "text/plain": [
       "<Figure size 432x288 with 1 Axes>"
      ]
     },
     "metadata": {
      "needs_background": "light"
     },
     "output_type": "display_data"
    }
   ],
   "source": [
    "import matplotlib.pyplot as plt\n",
    "from scipy import ndimage\n",
    "\n",
    "rand_example = np.random.choice(X.index)\n",
    "_, ax = plt.subplots()\n",
    "   \n",
    "digit = X.iloc[rand_example].values.reshape(20, 20)\n",
    "rotated = ndimage.rotate(digit, 90)\n",
    "ax.matshow(rotated, origin = 'lower')\n",
    "print(\"random digit chosen from the dataset\")\n",
    "ax.set_title(\"Label: %i\\n\" % y.loc[rand_example])\n",
    "ax.grid(False)"
   ]
  },
  {
   "cell_type": "markdown",
   "metadata": {},
   "source": [
    "## Vectorizing Logistic Regression"
   ]
  },
  {
   "cell_type": "code",
   "execution_count": 3,
   "metadata": {},
   "outputs": [],
   "source": [
    "def sigmoid(z):\n",
    "    g = 1/ (1 + np.exp(-z))\n",
    "    return g\n",
    "\n",
    "def hypothesis( X,theta):\n",
    "    \n",
    "    return sigmoid(np.dot(X,theta))"
   ]
  },
  {
   "cell_type": "code",
   "execution_count": 4,
   "metadata": {},
   "outputs": [],
   "source": [
    "# Vectorize Cost Function\n",
    "\n",
    "def lrCostFunction(theta, X, y, lambd):\n",
    "    m = len(y)\n",
    "    J = 0\n",
    "    \n",
    "    J =  1/m *(np.dot(-y.T, np.log(hypothesis(X,theta))) - (np.dot((1-y).T ,  np.log(1-hypothesis(X,theta)))))+ lambd * np.dot(theta[1:].T, theta[1:]) / (2* m)\n",
    "   \n",
    "    return J.item()"
   ]
  },
  {
   "cell_type": "code",
   "execution_count": 31,
   "metadata": {},
   "outputs": [],
   "source": [
    "def gradientDescent(X,theta,y,lambd):\n",
    "    m = len(y)\n",
    "    grad = np.zeros(theta.shape)\n",
    "\n",
    "    grad[0] = 1/m * np.dot(X[:,0].T,(hypothesis(X,theta) - y))\n",
    "    grad[1:] =  1/m * np.dot(X[:,1:].T,(hypothesis(X,theta) - y))+ lambd * theta[1:] / m\n",
    "    while grad[1:].all() != 0:\n",
    "            grad[1:] =  1/m * np.dot(X[:,1:].T,(hypothesis(X,theta) - y))+ lambd * theta[1:] / m\n",
    "\n",
    "    return grad"
   ]
  },
  {
   "cell_type": "code",
   "execution_count": 6,
   "metadata": {},
   "outputs": [],
   "source": [
    "theta_t = np.array([-2, -1, 1, 2],ndmin = 2).T\n",
    "\n",
    "\n",
    "X_t = np.ones((5,1))\n",
    "X_t = np.c_[X_t, np.array([[0.1, 0.6, 1.1], [0.2, 0.7, 1.2], [0.3, 0.8, 1.3], [0.4, 0.9, 1.4], [0.5, 1.0, 1.5]])]\n",
    "\n",
    "y_t = np.array([1, 0, 1,0 ,1],ndmin = 2).T\n",
    "lambd_t= 3"
   ]
  },
  {
   "cell_type": "code",
   "execution_count": 7,
   "metadata": {},
   "outputs": [
    {
     "name": "stdout",
     "output_type": "stream",
     "text": [
      "expected cost: 2.534819;    calculated cost: 2.534819 <class 'numpy.ndarray'>\n",
      "expected gradients:\n",
      " 0.146561\n",
      " -0.548558\n",
      " 0.724722\n",
      " 1.398003\n",
      "\n",
      "calculated gradients: \n",
      " [[ 0.14656137]\n",
      " [-0.54855841]\n",
      " [ 0.72472227]\n",
      " [ 1.39800296]]\n"
     ]
    }
   ],
   "source": [
    "cost = lrCostFunction(theta_t, X_t, y_t,lambd_t)\n",
    "gradient = gradientDescent(X_t,theta_t,y_t,lambd_t)\n",
    "print(\"expected cost: 2.534819;    calculated cost: %0.6f\"% cost, type(gradient))\n",
    "print(\"expected gradients:\\n 0.146561\\n -0.548558\\n 0.724722\\n 1.398003\\n\")\n",
    "print(\"calculated gradients: \\n\", gradient)"
   ]
  },
  {
   "cell_type": "markdown",
   "metadata": {},
   "source": [
    "## One-vs- All training"
   ]
  },
  {
   "cell_type": "code",
   "execution_count": 10,
   "metadata": {},
   "outputs": [],
   "source": [
    "def GradOptimization(X,theta,y,lambd,alpha,num_iters):\n",
    "    m = len(y)\n",
    "    J_history = []\n",
    "    \n",
    "    for i in range(num_iters):\n",
    "        cost = lrCostFunction(theta,X,y,lambd)\n",
    "        grad = gradientDescent(X,theta,y,lambd)\n",
    "        theta = theta - alpha * grad\n",
    "        J_history.append(cost)\n",
    "        \n",
    "    return theta, J_history\n",
    "        "
   ]
  },
  {
   "cell_type": "code",
   "execution_count": 53,
   "metadata": {},
   "outputs": [],
   "source": [
    "def oneVsAll(X,y,num_labels,lambd):\n",
    "    m = X.shape[0]\n",
    "    n = X.shape[1]\n",
    "    \n",
    "    all_theta =[]\n",
    "    initial_theta = np.zeros((X.shape[1] + 1, 1))\n",
    "\n",
    "    X = np.c_[  np.ones((m,1))+1 , X ]\n",
    "    \n",
    "#     optimization using Gradient Descent method\n",
    "    for i in range(1,num_labels + 1):\n",
    "        theta, J_hist = GradOptimization(X,initial_theta,np.where(y==i,1,0),lambd,3,500)\n",
    "        all_theta.extend(theta)\n",
    "        \n",
    "    return np.array(all_theta).reshape(num_labels,n+1)"
   ]
  },
  {
   "cell_type": "code",
   "execution_count": 57,
   "metadata": {},
   "outputs": [],
   "source": [
    "#the optimized Theta\n",
    "\n",
    "theta = oneVsAll(X,y,num_labels,0.1)"
   ]
  },
  {
   "cell_type": "markdown",
   "metadata": {},
   "source": [
    "## One-Vs-All Prediction"
   ]
  },
  {
   "cell_type": "code",
   "execution_count": 14,
   "metadata": {},
   "outputs": [],
   "source": [
    "def prediction(theta, X):\n",
    "    m = X.shape[0]\n",
    "    X = np.c_[np.ones((m,1)) , X ]\n",
    "    predictions = (X @ theta.T)\n",
    "    return np.argmax(predictions,axis = 1) + 1"
   ]
  },
  {
   "cell_type": "code",
   "execution_count": 59,
   "metadata": {},
   "outputs": [
    {
     "name": "stdout",
     "output_type": "stream",
     "text": [
      "One Vs All classifier for MNIST accuracy:\n"
     ]
    },
    {
     "data": {
      "text/plain": [
       "91.38"
      ]
     },
     "execution_count": 59,
     "metadata": {},
     "output_type": "execute_result"
    }
   ],
   "source": [
    "print(\"One Vs All classifier for MNIST accuracy:\")\n",
    "np.mean((prediction(theta, X) == y.values.flatten())*100)"
   ]
  }
 ],
 "metadata": {
  "kernelspec": {
   "display_name": "Python 3",
   "language": "python",
   "name": "python3"
  },
  "language_info": {
   "codemirror_mode": {
    "name": "ipython",
    "version": 3
   },
   "file_extension": ".py",
   "mimetype": "text/x-python",
   "name": "python",
   "nbconvert_exporter": "python",
   "pygments_lexer": "ipython3",
   "version": "3.7.4"
  }
 },
 "nbformat": 4,
 "nbformat_minor": 4
}
