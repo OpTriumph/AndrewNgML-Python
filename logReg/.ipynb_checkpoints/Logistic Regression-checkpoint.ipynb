{
 "cells": [
  {
   "cell_type": "code",
   "execution_count": 1,
   "metadata": {},
   "outputs": [],
   "source": [
    "import numpy as np\n",
    "import pandas as pd\n",
    "\n",
    "data = pd.read_csv('ex2data1.txt',names = ['Exam1Score','Exam2Score','Admitted'],header = None)"
   ]
  },
  {
   "cell_type": "code",
   "execution_count": 2,
   "metadata": {},
   "outputs": [],
   "source": [
    "y = data['Admitted'].values\n",
    "y=y.reshape(100,1)\n",
    "X = data[['Exam1Score','Exam2Score']].values"
   ]
  },
  {
   "cell_type": "markdown",
   "metadata": {},
   "source": [
    "## Plot Data"
   ]
  },
  {
   "cell_type": "code",
   "execution_count": 3,
   "metadata": {},
   "outputs": [
    {
     "data": {
      "image/png": "[encoded data removed]",
      "text/plain": [
       "<Figure size 576x504 with 1 Axes>"
      ]
     },
     "metadata": {
      "needs_background": "light"
     },
     "output_type": "display_data"
    }
   ],
   "source": [
    "import matplotlib.pyplot as plt\n",
    "\n",
    "x11 = data[data['Admitted'] == 1]['Exam1Score'].values\n",
    "x12 = data[data['Admitted'] == 1]['Exam2Score'].values\n",
    "x21 = data[data['Admitted'] == 0]['Exam1Score'].values\n",
    "x22 = data[data['Admitted'] == 0]['Exam2Score'].values\n",
    "\n",
    "plt.figure(figsize = (8,7))\n",
    "plt.scatter(x11,x12,marker ='+', label = 'Admitted')\n",
    "plt.scatter(x21,x22,marker ='o', label = \"Not admitted\")\n",
    "plt.legend()\n",
    "plt.ylabel('Exam 2 score')\n",
    "plt.xlabel('Exam 1 score')\n",
    "plt.show()"
   ]
  },
  {
   "cell_type": "markdown",
   "metadata": {},
   "source": [
    "## Sigmoid Function\n"
   ]
  },
  {
   "cell_type": "code",
   "execution_count": 4,
   "metadata": {},
   "outputs": [],
   "source": [
    "def sigmoid(z):\n",
    "    g = 1/ (1 + np.exp(-z))\n",
    "    return g\n",
    "\n",
    "def hypothesis( X,theta):\n",
    "    \n",
    "    return sigmoid(np.dot(X,theta))"
   ]
  },
  {
   "cell_type": "markdown",
   "metadata": {},
   "source": [
    "\n",
    "## Cost Function and Gradient"
   ]
  },
  {
   "cell_type": "code",
   "execution_count": 9,
   "metadata": {},
   "outputs": [],
   "source": [
    "def costFunction(theta, X, y):\n",
    "#     theta= theta.reshape(theta.shape[1],theta.shape[0])\n",
    "    m = len(y)\n",
    "    J = 0\n",
    "    grad = np.zeros((theta.shape))\n",
    "    \n",
    "    J = 1/m * (np.dot(-y.T,np.log(hypothesis(X,theta.T)))\n",
    "               - np.dot((1- y).T ,np.log(1- hypothesis(X,theta.T))))\n",
    "    \n",
    "    grad = 1/m * np.dot(X.T, (hypothesis(X,theta.T) - y))\n",
    "    \n",
    "#   To run the theta Optimization process, make sure to only return cost\n",
    "    return J.item()"
   ]
  },
  {
   "cell_type": "code",
   "execution_count": 7,
   "metadata": {},
   "outputs": [],
   "source": [
    "initial_theta = np.zeros((X.shape[1]+1, 1))\n",
    "\n",
    "X = np.c_[np.ones((X.shape[0],1)),X]"
   ]
  },
  {
   "cell_type": "code",
   "execution_count": 8,
   "metadata": {},
   "outputs": [
    {
     "name": "stdout",
     "output_type": "stream",
     "text": [
      "expected Cost with initial theta: 0.693 \n",
      "Cost calculated:  0.6931471805599452\n",
      "expected Gradient at initial theta:\n",
      " -0.1000\n",
      " -12.0092\n",
      " -11.2628\n",
      "\n",
      "calculated theta: \n",
      " [[ -0.1       ]\n",
      " [-12.00921659]\n",
      " [-11.26284221]]\n"
     ]
    }
   ],
   "source": [
    "J,grad  = costFunction(initial_theta.reshape(initial_theta.shape[1],initial_theta.shape[0]),X,y)\n",
    "print(\"expected Cost with initial theta: 0.693 \")\n",
    "print(\"Cost calculated: \", J)\n",
    "print(\"expected Gradient at initial theta:\\n -0.1000\\n -12.0092\\n -11.2628\\n\")\n",
    "print(\"calculated theta: \\n\",grad)\n"
   ]
  },
  {
   "cell_type": "markdown",
   "metadata": {},
   "source": [
    "## Optimizing "
   ]
  },
  {
   "cell_type": "code",
   "execution_count": 10,
   "metadata": {},
   "outputs": [
    {
     "name": "stdout",
     "output_type": "stream",
     "text": [
      "Optimization terminated successfully.\n",
      "         Current function value: 0.203498\n",
      "         Iterations: 157\n",
      "         Function evaluations: 287\n"
     ]
    }
   ],
   "source": [
    "from scipy.optimize import minimize\n",
    "\n",
    "# instead of using fminunc in Octave, use minimize in scipy to get the optimal theta\n",
    "res  = minimize(costFunction,\n",
    "                initial_theta,\n",
    "                args =(X,y),\n",
    "                method = 'Nelder-Mead',\n",
    "                options ={'disp' :True})"
   ]
  },
  {
   "cell_type": "code",
   "execution_count": 11,
   "metadata": {},
   "outputs": [
    {
     "name": "stdout",
     "output_type": "stream",
     "text": [
      "the expected theta: -25.161, 0.206, 0.201\n",
      "calculated theta:  [-25.16130062   0.20623142   0.20147143]\n"
     ]
    }
   ],
   "source": [
    "print(\"the expected theta: -25.161, 0.206, 0.201\")\n",
    "print('calculated theta: ',res.x)"
   ]
  },
  {
   "cell_type": "markdown",
   "metadata": {},
   "source": [
    "## Plotting Decision Boundary"
   ]
  },
  {
   "cell_type": "code",
   "execution_count": 12,
   "metadata": {},
   "outputs": [],
   "source": [
    "min1 = X[(X[:,1] + X[:,2]).argmin(),:][1:]\n",
    "max1 = X[(X[:,1] + X[:,2]).argmax(),:][1:]\n",
    "y = (-1/ res.x[2]) * (res.x[1] * np.array([min1, max1]) + res.x[0])"
   ]
  },
  {
   "cell_type": "code",
   "execution_count": 13,
   "metadata": {},
   "outputs": [
    {
     "data": {
      "image/png": "[encoded data removed]",
      "text/plain": [
       "<Figure size 576x504 with 1 Axes>"
      ]
     },
     "metadata": {
      "needs_background": "light"
     },
     "output_type": "display_data"
    }
   ],
   "source": [
    "plt.figure(figsize = (8,7))\n",
    "\n",
    "plt.scatter(x11,x12,marker ='+', label = 'Admitted')\n",
    "plt.scatter(x21,x22,marker ='o', label = \"Not admitted\")\n",
    "plt.plot(np.array([min1, max1]), y )\n",
    "plt.legend()\n",
    "plt.ylabel('Exam 2 score')\n",
    "plt.xlabel('Exam 1 score')\n",
    "plt.show()"
   ]
  },
  {
   "cell_type": "code",
   "execution_count": 14,
   "metadata": {},
   "outputs": [
    {
     "name": "stdout",
     "output_type": "stream",
     "text": [
      "Predict probability for a student with score 45 on exam 1 and score 85 on exam 2 : 0.776\n",
      "Expected value: 0.775 +/- 0.002\n",
      "\n",
      "\n"
     ]
    }
   ],
   "source": [
    "print(\"Predict probability for a student with score 45 on exam 1 and score 85 on exam 2 : %0.3f\" % hypothesis([1, 45, 85] , res.x))\n",
    "print('Expected value: 0.775 +/- 0.002\\n\\n')"
   ]
  },
  {
   "cell_type": "markdown",
   "metadata": {},
   "source": [
    "## Regularized Logistic Regression"
   ]
  },
  {
   "cell_type": "code",
   "execution_count": 15,
   "metadata": {},
   "outputs": [],
   "source": [
    "data2 = pd.read_csv('ex2data2.txt',\n",
    "                     names = ['MicrochipTest1','MicrochipTest2','y'],\n",
    "                     header = None)\n",
    "\n",
    "X = data2[['MicrochipTest1','MicrochipTest2']].values\n",
    "y = data2['y'].values"
   ]
  },
  {
   "cell_type": "markdown",
   "metadata": {},
   "source": [
    "## Visualizing the Data"
   ]
  },
  {
   "cell_type": "code",
   "execution_count": 16,
   "metadata": {},
   "outputs": [
    {
     "data": {
      "text/plain": [
       "<matplotlib.legend.Legend at 0x28f5302b388>"
      ]
     },
     "execution_count": 16,
     "metadata": {},
     "output_type": "execute_result"
    },
    {
     "data": {
      "image/png": "[encoded data removed]",
      "text/plain": [
       "<Figure size 576x576 with 1 Axes>"
      ]
     },
     "metadata": {
      "needs_background": "light"
     },
     "output_type": "display_data"
    }
   ],
   "source": [
    "plt.figure(figsize = (8,8))\n",
    "plt.xlabel('Microchip Test 1')\n",
    "plt.ylabel('Microchip Test 2')\n",
    "\n",
    "x11, x12 = data2[data2['y'] == 1]['MicrochipTest1'].values, data2[data2['y'] == 1]['MicrochipTest2'].values\n",
    "x21, x22 = data2[data2['y'] == 0]['MicrochipTest1'].values, data2[data2['y'] == 0]['MicrochipTest2'].values\n",
    "plt.scatter(x11,x12, marker = '+', label = 'y = 1')\n",
    "plt.scatter(x21,x22, marker = 'o', label = 'y = 0')\n",
    "\n",
    "plt.legend()"
   ]
  },
  {
   "cell_type": "markdown",
   "metadata": {},
   "source": [
    "## Feature Mapping"
   ]
  },
  {
   "cell_type": "code",
   "execution_count": 17,
   "metadata": {},
   "outputs": [],
   "source": [
    "def mapFeature(x1,x2):\n",
    "    degree = 6\n",
    "    out = np.ones(x1.shape[0])\n",
    "    \n",
    "    for i in range(1, degree + 1):\n",
    "        for j in range(0, i + 1):\n",
    "            \n",
    "            out =  np.c_[ out, (x1 ** (i - j)) * (x2 ** j)]\n",
    "            \n",
    "    return out"
   ]
  },
  {
   "cell_type": "code",
   "execution_count": 18,
   "metadata": {},
   "outputs": [],
   "source": [
    "X = mapFeature(X[:,0],X[:,1])"
   ]
  },
  {
   "cell_type": "code",
   "execution_count": 19,
   "metadata": {},
   "outputs": [],
   "source": [
    "initial_theta = np.zeros((X.shape[1], 1))\n",
    "lambd = 1"
   ]
  },
  {
   "cell_type": "markdown",
   "metadata": {},
   "source": [
    "## Cost Function and Gradient"
   ]
  },
  {
   "cell_type": "code",
   "execution_count": 22,
   "metadata": {},
   "outputs": [],
   "source": [
    "def costFunctionReg(theta, X, y, lambd):\n",
    "    m = len(y)\n",
    "    J = 0\n",
    "    grad = np.zeros(theta.shape)\n",
    "    \n",
    "    J = 1/m * (np.dot (-y, np.log(hypothesis( X,theta))) - \n",
    "               np.dot((1-y),np.log(1 - hypothesis( X,theta)) )) + lambd / (2*m) * sum(theta ** 2)\n",
    "   \n",
    "    grad = 1/m * np.dot(X.T, (hypothesis(X,theta) - y.reshape(y.shape[0],1))) \n",
    "#    To optimize the theta, remove gradient from return of the cost function to avoid error during plotting \n",
    "    return J"
   ]
  },
  {
   "cell_type": "code",
   "execution_count": 21,
   "metadata": {},
   "outputs": [
    {
     "name": "stdout",
     "output_type": "stream",
     "text": [
      "Expected Cost: 0.693, Calculated Cost:  0.6931471805599453\n",
      "first five expected gradients: \n",
      " 0.0085\n",
      " 0.0188\n",
      " 0.0001\n",
      " 0.0503\n",
      " 0.0115 \n",
      "\n",
      "calculated Gradients: \n",
      " [[8.47457627e-03]\n",
      " [1.87880932e-02]\n",
      " [7.77711864e-05]\n",
      " [5.03446395e-02]\n",
      " [1.15013308e-02]]\n"
     ]
    }
   ],
   "source": [
    "j, grads = costFunctionReg(initial_theta, X, y, lambd)\n",
    "print(\"Expected Cost: 0.693, Calculated Cost: \"\n",
    "      ,j.item())\n",
    "print(\"first five expected gradients: \\n 0.0085\\n 0.0188\\n 0.0001\\n 0.0503\\n 0.0115 \\n\")\n",
    "print(\"calculated Gradients: \\n\" ,grads[0:5])"
   ]
  },
  {
   "cell_type": "markdown",
   "metadata": {},
   "source": [
    "## Regularization and Accuracies"
   ]
  },
  {
   "cell_type": "code",
   "execution_count": 23,
   "metadata": {},
   "outputs": [
    {
     "name": "stdout",
     "output_type": "stream",
     "text": [
      "Warning: Maximum number of function evaluations has been exceeded.\n"
     ]
    }
   ],
   "source": [
    "initial_theta = np.zeros((X.shape[1],1))\n",
    "lambd = 1\n",
    "res  = minimize(costFunctionReg,\n",
    "                initial_theta,\n",
    "                args =(X,y,lambd ),\n",
    "                method = 'Nelder-Mead',\n",
    "                options ={'disp' :True})\n"
   ]
  },
  {
   "cell_type": "code",
   "execution_count": 24,
   "metadata": {},
   "outputs": [
    {
     "name": "stdout",
     "output_type": "stream",
     "text": [
      "Optimized theta: \n",
      " [ 0.61870732  0.07701867  0.28851361 -1.89936773  0.34761862 -0.30231806\n",
      "  0.332937    0.25065888 -0.17142429 -0.32070029 -0.40478574  0.26571941\n",
      "  0.93941002 -0.95593802 -0.61607659 -0.18119003 -0.14133768 -0.15458562\n",
      " -0.34753154  0.51293072  0.22416108 -0.03674151  0.74630368  0.11406644\n",
      "  0.295022    0.03664998  0.47567136 -0.86148986]\n"
     ]
    }
   ],
   "source": [
    "print(\"Optimized theta: \\n\",res.x)"
   ]
  },
  {
   "cell_type": "code",
   "execution_count": 25,
   "metadata": {},
   "outputs": [],
   "source": [
    "u = np.arange(-1,1.5, 0.051020)\n",
    "u = u.reshape(1,u.shape[0])\n",
    "v = np.arange(-1,1.5, 0.051020)\n",
    "v = v.reshape(1,v.shape[0])\n",
    "\n",
    "z = np.zeros((u.shape[1], v.shape[1]))"
   ]
  },
  {
   "cell_type": "code",
   "execution_count": 26,
   "metadata": {
    "scrolled": true
   },
   "outputs": [],
   "source": [
    "for i in range(0,u.shape[1]):\n",
    "    for j in range(0, v.shape[1]):\n",
    "        z[i,j] = np.dot(mapFeature(u[:,i],v[:,j]),res.x)"
   ]
  },
  {
   "cell_type": "code",
   "execution_count": 27,
   "metadata": {},
   "outputs": [
    {
     "data": {
      "image/png": "[encoded data removed]",
      "text/plain": [
       "<Figure size 576x576 with 1 Axes>"
      ]
     },
     "metadata": {
      "needs_background": "light"
     },
     "output_type": "display_data"
    }
   ],
   "source": [
    "\n",
    "u = np.arange(-1,1.5, 0.051020)\n",
    "v = np.arange(-1,1.5, 0.051020)\n",
    "\n",
    "plt.figure(figsize = (8,8))\n",
    "\n",
    "plt.scatter(x11,x12,marker ='+', label = 'Admitted')\n",
    "plt.scatter(x21,x22,marker ='o', label = \"Not admitted\")\n",
    "plt.contour(v,u,z, levels = 0)\n",
    "plt.legend()\n",
    "plt.ylabel('Exam 2 score')\n",
    "plt.xlabel('Exam 1 score')\n",
    "plt.show()"
   ]
  },
  {
   "cell_type": "code",
   "execution_count": 28,
   "metadata": {},
   "outputs": [],
   "source": [
    "from sklearn.linear_model import LogisticRegression\n",
    "from sklearn.metrics import accuracy_score \n",
    "model = LogisticRegression()\n",
    "model.fit(X, y)\n",
    "predicted = model.predict(X)\n",
    "accuracy = accuracy_score(y.flatten(),predicted)"
   ]
  },
  {
   "cell_type": "code",
   "execution_count": 29,
   "metadata": {},
   "outputs": [
    {
     "name": "stdout",
     "output_type": "stream",
     "text": [
      "expected Accuracy : 83.1\n",
      "calculatd accuracy: 83.1\n"
     ]
    }
   ],
   "source": [
    "print(\"expected Accuracy : 83.1\")\n",
    "print(\"calculatd accuracy: %0.1f\" %( accuracy*100))"
   ]
  }
 ],
 "metadata": {
  "kernelspec": {
   "display_name": "Python 3",
   "language": "python",
   "name": "python3"
  },
  "language_info": {
   "codemirror_mode": {
    "name": "ipython",
    "version": 3
   },
   "file_extension": ".py",
   "mimetype": "text/x-python",
   "name": "python",
   "nbconvert_exporter": "python",
   "pygments_lexer": "ipython3",
   "version": "3.7.4"
  }
 },
 "nbformat": 4,
 "nbformat_minor": 4
}
